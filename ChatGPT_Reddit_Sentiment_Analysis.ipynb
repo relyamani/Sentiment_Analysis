{
 "cells": [
  {
   "cell_type": "code",
   "execution_count": 1,
   "id": "06ec609c-32b3-4bcd-b6e2-d68fd6e96fe8",
   "metadata": {
    "tags": []
   },
   "outputs": [
    {
     "name": "stderr",
     "output_type": "stream",
     "text": [
      "[nltk_data] Downloading package vader_lexicon to\n",
      "[nltk_data]     C:\\Users\\dell\\AppData\\Roaming\\nltk_data...\n",
      "[nltk_data]   Package vader_lexicon is already up-to-date!\n"
     ]
    }
   ],
   "source": [
    "#Importing required libraries\n",
    "import numpy as np\n",
    "import pandas as pd\n",
    "import matplotlib.pyplot as plt\n",
    "import nltk\n",
    "nltk.download('vader_lexicon')\n",
    "from nltk.sentiment.vader import SentimentIntensityAnalyzer\n",
    "import warnings\n",
    "warnings.filterwarnings(\"ignore\")"
   ]
  },
  {
   "cell_type": "code",
   "execution_count": 2,
   "id": "e1513aef-f28c-4210-984b-758c40cf88d4",
   "metadata": {
    "tags": []
   },
   "outputs": [
    {
     "data": {
      "text/html": [
       "<div>\n",
       "<style scoped>\n",
       "    .dataframe tbody tr th:only-of-type {\n",
       "        vertical-align: middle;\n",
       "    }\n",
       "\n",
       "    .dataframe tbody tr th {\n",
       "        vertical-align: top;\n",
       "    }\n",
       "\n",
       "    .dataframe thead th {\n",
       "        text-align: right;\n",
       "    }\n",
       "</style>\n",
       "<table border=\"1\" class=\"dataframe\">\n",
       "  <thead>\n",
       "    <tr style=\"text-align: right;\">\n",
       "      <th></th>\n",
       "      <th>comment_id</th>\n",
       "      <th>comment_parent_id</th>\n",
       "      <th>comment_body</th>\n",
       "      <th>subreddit</th>\n",
       "    </tr>\n",
       "  </thead>\n",
       "  <tbody>\n",
       "    <tr>\n",
       "      <th>0</th>\n",
       "      <td>iztdxuh</td>\n",
       "      <td>t3_zj2aeu</td>\n",
       "      <td>I've been shocked for days now, I don't need c...</td>\n",
       "      <td>r/ChatGPT</td>\n",
       "    </tr>\n",
       "    <tr>\n",
       "      <th>1</th>\n",
       "      <td>iztn0q0</td>\n",
       "      <td>t3_zj2aeu</td>\n",
       "      <td>\\n\\nI am so angry right now. I just wasted my...</td>\n",
       "      <td>r/ChatGPT</td>\n",
       "    </tr>\n",
       "    <tr>\n",
       "      <th>2</th>\n",
       "      <td>izudrph</td>\n",
       "      <td>t3_zj2aeu</td>\n",
       "      <td>chatgpt karma whoring is here folks! just when...</td>\n",
       "      <td>r/ChatGPT</td>\n",
       "    </tr>\n",
       "    <tr>\n",
       "      <th>3</th>\n",
       "      <td>iztfhtb</td>\n",
       "      <td>t3_zj2aeu</td>\n",
       "      <td>Worked on me, ngl.</td>\n",
       "      <td>r/ChatGPT</td>\n",
       "    </tr>\n",
       "    <tr>\n",
       "      <th>4</th>\n",
       "      <td>izu2as9</td>\n",
       "      <td>t3_zj2aeu</td>\n",
       "      <td>Certified 10/10, must-see moment. It really di...</td>\n",
       "      <td>r/ChatGPT</td>\n",
       "    </tr>\n",
       "  </tbody>\n",
       "</table>\n",
       "</div>"
      ],
      "text/plain": [
       "  comment_id comment_parent_id  \\\n",
       "0    iztdxuh         t3_zj2aeu   \n",
       "1    iztn0q0         t3_zj2aeu   \n",
       "2    izudrph         t3_zj2aeu   \n",
       "3    iztfhtb         t3_zj2aeu   \n",
       "4    izu2as9         t3_zj2aeu   \n",
       "\n",
       "                                        comment_body  subreddit  \n",
       "0  I've been shocked for days now, I don't need c...  r/ChatGPT  \n",
       "1   \\n\\nI am so angry right now. I just wasted my...  r/ChatGPT  \n",
       "2  chatgpt karma whoring is here folks! just when...  r/ChatGPT  \n",
       "3                                 Worked on me, ngl.  r/ChatGPT  \n",
       "4  Certified 10/10, must-see moment. It really di...  r/ChatGPT  "
      ]
     },
     "execution_count": 2,
     "metadata": {},
     "output_type": "execute_result"
    }
   ],
   "source": [
    "#Loading data\n",
    "data = pd.read_csv(\"chatgpt-reddit-comments.csv\", index_col='Unnamed: 0')\n",
    "data.head()"
   ]
  },
  {
   "cell_type": "code",
   "execution_count": 3,
   "id": "16b570fd-2d7c-46d4-9d83-323ac996149e",
   "metadata": {
    "tags": []
   },
   "outputs": [
    {
     "data": {
      "text/plain": [
       "(52416, 4)"
      ]
     },
     "execution_count": 3,
     "metadata": {},
     "output_type": "execute_result"
    }
   ],
   "source": [
    "#Checking data shape\n",
    "data.shape"
   ]
  },
  {
   "cell_type": "code",
   "execution_count": 4,
   "id": "1edef4fe-259c-40dd-b273-070ca90df6d3",
   "metadata": {
    "tags": []
   },
   "outputs": [
    {
     "name": "stdout",
     "output_type": "stream",
     "text": [
      "<class 'pandas.core.frame.DataFrame'>\n",
      "Index: 52416 entries, 0 to \u001a\n",
      "Data columns (total 4 columns):\n",
      " #   Column             Non-Null Count  Dtype \n",
      "---  ------             --------------  ----- \n",
      " 0   comment_id         52415 non-null  object\n",
      " 1   comment_parent_id  52415 non-null  object\n",
      " 2   comment_body       52415 non-null  object\n",
      " 3   subreddit          52415 non-null  object\n",
      "dtypes: object(4)\n",
      "memory usage: 2.0+ MB\n"
     ]
    }
   ],
   "source": [
    "data.info()"
   ]
  },
  {
   "cell_type": "code",
   "execution_count": 5,
   "id": "9d591146-f013-4252-a485-5b2e7d4937a4",
   "metadata": {
    "tags": []
   },
   "outputs": [
    {
     "data": {
      "text/plain": [
       "comment_id           1\n",
       "comment_parent_id    1\n",
       "comment_body         1\n",
       "subreddit            1\n",
       "dtype: int64"
      ]
     },
     "execution_count": 5,
     "metadata": {},
     "output_type": "execute_result"
    }
   ],
   "source": [
    "data.isnull().sum()"
   ]
  },
  {
   "cell_type": "code",
   "execution_count": 6,
   "id": "099f5fc8-d869-439e-8939-10cb31698f92",
   "metadata": {
    "tags": []
   },
   "outputs": [
    {
     "data": {
      "text/plain": [
       "comment_id           0\n",
       "comment_parent_id    0\n",
       "comment_body         0\n",
       "subreddit            0\n",
       "dtype: int64"
      ]
     },
     "execution_count": 6,
     "metadata": {},
     "output_type": "execute_result"
    }
   ],
   "source": [
    "data.dropna(inplace = True)\n",
    "data.isna().sum()"
   ]
  },
  {
   "cell_type": "code",
   "execution_count": 7,
   "id": "e1a8ecd0-b3e0-47d0-957d-49149977cfc6",
   "metadata": {
    "tags": []
   },
   "outputs": [
    {
     "data": {
      "text/plain": [
       "r/ChatGPT            29711\n",
       "r/technology         16672\n",
       "r/Futurology          5009\n",
       "r/dataisbeautiful     1020\n",
       "subreddit                3\n",
       "Name: subreddit, dtype: int64"
      ]
     },
     "execution_count": 7,
     "metadata": {},
     "output_type": "execute_result"
    }
   ],
   "source": [
    "subreddit_count = data['subreddit'].value_counts()\n",
    "subreddit_count"
   ]
  },
  {
   "cell_type": "code",
   "execution_count": 8,
   "id": "cf9d96b4-8458-49f6-8dbb-a346ab6d6d51",
   "metadata": {
    "tags": []
   },
   "outputs": [
    {
     "data": {
      "text/plain": [
       "t3_107vs7i    239\n",
       "t3_109g9gf    223\n",
       "t3_10mias6    216\n",
       "t3_10heg9p    208\n",
       "t3_ztd950     202\n",
       "             ... \n",
       "t1_j59syw8      1\n",
       "t1_j59o2s4      1\n",
       "t1_j59y2i8      1\n",
       "t1_j5dhf8u      1\n",
       "t1_j5m6aj0      1\n",
       "Name: comment_parent_id, Length: 22596, dtype: int64"
      ]
     },
     "execution_count": 8,
     "metadata": {},
     "output_type": "execute_result"
    }
   ],
   "source": [
    "data['comment_parent_id'].value_counts()"
   ]
  },
  {
   "cell_type": "code",
   "execution_count": 9,
   "id": "f9605938-4f12-47cc-9589-55ffe1792ca4",
   "metadata": {
    "tags": []
   },
   "outputs": [
    {
     "data": {
      "text/plain": [
       "Text(0.5, 1.0, 'Comment Frequency by Subreddits')"
      ]
     },
     "execution_count": 9,
     "metadata": {},
     "output_type": "execute_result"
    },
    {
     "data": {
      "image/png": "[encoded data removed]",
      "text/plain": [
       "<Figure size 640x480 with 1 Axes>"
      ]
     },
     "metadata": {},
     "output_type": "display_data"
    }
   ],
   "source": [
    "subreddit_count.plot(kind='bar')\n",
    "plt.xlabel(\"Subreddit Name\")\n",
    "plt.ylabel(\"Comment Count\")\n",
    "plt.title(\"Comment Frequency by Subreddits\")"
   ]
  },
  {
   "cell_type": "code",
   "execution_count": 10,
   "id": "790eebea-75cd-4452-bc8e-89d576d98a94",
   "metadata": {
    "tags": []
   },
   "outputs": [
    {
     "data": {
      "text/plain": [
       "\"I've been shocked for days now, I don't need clickbait.\""
      ]
     },
     "execution_count": 10,
     "metadata": {},
     "output_type": "execute_result"
    }
   ],
   "source": [
    "data.comment_body[0]"
   ]
  },
  {
   "cell_type": "code",
   "execution_count": 11,
   "id": "a9ebf90c-0103-4b6a-bce5-57be4042cced",
   "metadata": {},
   "outputs": [],
   "source": [
    "sid = SentimentIntensityAnalyzer()"
   ]
  },
  {
   "cell_type": "code",
   "execution_count": 12,
   "id": "a7f07a8a-384a-4384-bbcc-bc32132b54c7",
   "metadata": {},
   "outputs": [
    {
     "data": {
      "text/html": [
       "<div>\n",
       "<style scoped>\n",
       "    .dataframe tbody tr th:only-of-type {\n",
       "        vertical-align: middle;\n",
       "    }\n",
       "\n",
       "    .dataframe tbody tr th {\n",
       "        vertical-align: top;\n",
       "    }\n",
       "\n",
       "    .dataframe thead th {\n",
       "        text-align: right;\n",
       "    }\n",
       "</style>\n",
       "<table border=\"1\" class=\"dataframe\">\n",
       "  <thead>\n",
       "    <tr style=\"text-align: right;\">\n",
       "      <th></th>\n",
       "      <th>comment_id</th>\n",
       "      <th>comment_parent_id</th>\n",
       "      <th>comment_body</th>\n",
       "      <th>subreddit</th>\n",
       "      <th>scores</th>\n",
       "    </tr>\n",
       "  </thead>\n",
       "  <tbody>\n",
       "    <tr>\n",
       "      <th>0</th>\n",
       "      <td>iztdxuh</td>\n",
       "      <td>t3_zj2aeu</td>\n",
       "      <td>I've been shocked for days now, I don't need c...</td>\n",
       "      <td>r/ChatGPT</td>\n",
       "      <td>{'neg': 0.223, 'neu': 0.777, 'pos': 0.0, 'comp...</td>\n",
       "    </tr>\n",
       "    <tr>\n",
       "      <th>1</th>\n",
       "      <td>iztn0q0</td>\n",
       "      <td>t3_zj2aeu</td>\n",
       "      <td>\\n\\nI am so angry right now. I just wasted my...</td>\n",
       "      <td>r/ChatGPT</td>\n",
       "      <td>{'neg': 0.201, 'neu': 0.734, 'pos': 0.065, 'co...</td>\n",
       "    </tr>\n",
       "    <tr>\n",
       "      <th>2</th>\n",
       "      <td>izudrph</td>\n",
       "      <td>t3_zj2aeu</td>\n",
       "      <td>chatgpt karma whoring is here folks! just when...</td>\n",
       "      <td>r/ChatGPT</td>\n",
       "      <td>{'neg': 0.151, 'neu': 0.725, 'pos': 0.124, 'co...</td>\n",
       "    </tr>\n",
       "    <tr>\n",
       "      <th>3</th>\n",
       "      <td>iztfhtb</td>\n",
       "      <td>t3_zj2aeu</td>\n",
       "      <td>Worked on me, ngl.</td>\n",
       "      <td>r/ChatGPT</td>\n",
       "      <td>{'neg': 0.0, 'neu': 1.0, 'pos': 0.0, 'compound...</td>\n",
       "    </tr>\n",
       "    <tr>\n",
       "      <th>4</th>\n",
       "      <td>izu2as9</td>\n",
       "      <td>t3_zj2aeu</td>\n",
       "      <td>Certified 10/10, must-see moment. It really di...</td>\n",
       "      <td>r/ChatGPT</td>\n",
       "      <td>{'neg': 0.207, 'neu': 0.793, 'pos': 0.0, 'comp...</td>\n",
       "    </tr>\n",
       "  </tbody>\n",
       "</table>\n",
       "</div>"
      ],
      "text/plain": [
       "  comment_id comment_parent_id  \\\n",
       "0    iztdxuh         t3_zj2aeu   \n",
       "1    iztn0q0         t3_zj2aeu   \n",
       "2    izudrph         t3_zj2aeu   \n",
       "3    iztfhtb         t3_zj2aeu   \n",
       "4    izu2as9         t3_zj2aeu   \n",
       "\n",
       "                                        comment_body  subreddit  \\\n",
       "0  I've been shocked for days now, I don't need c...  r/ChatGPT   \n",
       "1   \\n\\nI am so angry right now. I just wasted my...  r/ChatGPT   \n",
       "2  chatgpt karma whoring is here folks! just when...  r/ChatGPT   \n",
       "3                                 Worked on me, ngl.  r/ChatGPT   \n",
       "4  Certified 10/10, must-see moment. It really di...  r/ChatGPT   \n",
       "\n",
       "                                              scores  \n",
       "0  {'neg': 0.223, 'neu': 0.777, 'pos': 0.0, 'comp...  \n",
       "1  {'neg': 0.201, 'neu': 0.734, 'pos': 0.065, 'co...  \n",
       "2  {'neg': 0.151, 'neu': 0.725, 'pos': 0.124, 'co...  \n",
       "3  {'neg': 0.0, 'neu': 1.0, 'pos': 0.0, 'compound...  \n",
       "4  {'neg': 0.207, 'neu': 0.793, 'pos': 0.0, 'comp...  "
      ]
     },
     "execution_count": 12,
     "metadata": {},
     "output_type": "execute_result"
    }
   ],
   "source": [
    "data['scores'] = data['comment_body'].apply(lambda comment_body: sid.polarity_scores(comment_body))\n",
    "data.head()"
   ]
  },
  {
   "cell_type": "code",
   "execution_count": 13,
   "id": "5bcf7034-da9a-4082-8c5d-caeb86502220",
   "metadata": {
    "tags": []
   },
   "outputs": [
    {
     "data": {
      "text/html": [
       "<div>\n",
       "<style scoped>\n",
       "    .dataframe tbody tr th:only-of-type {\n",
       "        vertical-align: middle;\n",
       "    }\n",
       "\n",
       "    .dataframe tbody tr th {\n",
       "        vertical-align: top;\n",
       "    }\n",
       "\n",
       "    .dataframe thead th {\n",
       "        text-align: right;\n",
       "    }\n",
       "</style>\n",
       "<table border=\"1\" class=\"dataframe\">\n",
       "  <thead>\n",
       "    <tr style=\"text-align: right;\">\n",
       "      <th></th>\n",
       "      <th>comment_id</th>\n",
       "      <th>comment_parent_id</th>\n",
       "      <th>comment_body</th>\n",
       "      <th>subreddit</th>\n",
       "      <th>scores</th>\n",
       "      <th>compound</th>\n",
       "    </tr>\n",
       "  </thead>\n",
       "  <tbody>\n",
       "    <tr>\n",
       "      <th>0</th>\n",
       "      <td>iztdxuh</td>\n",
       "      <td>t3_zj2aeu</td>\n",
       "      <td>I've been shocked for days now, I don't need c...</td>\n",
       "      <td>r/ChatGPT</td>\n",
       "      <td>{'neg': 0.223, 'neu': 0.777, 'pos': 0.0, 'comp...</td>\n",
       "      <td>-0.3182</td>\n",
       "    </tr>\n",
       "    <tr>\n",
       "      <th>1</th>\n",
       "      <td>iztn0q0</td>\n",
       "      <td>t3_zj2aeu</td>\n",
       "      <td>\\n\\nI am so angry right now. I just wasted my...</td>\n",
       "      <td>r/ChatGPT</td>\n",
       "      <td>{'neg': 0.201, 'neu': 0.734, 'pos': 0.065, 'co...</td>\n",
       "      <td>-0.9837</td>\n",
       "    </tr>\n",
       "    <tr>\n",
       "      <th>2</th>\n",
       "      <td>izudrph</td>\n",
       "      <td>t3_zj2aeu</td>\n",
       "      <td>chatgpt karma whoring is here folks! just when...</td>\n",
       "      <td>r/ChatGPT</td>\n",
       "      <td>{'neg': 0.151, 'neu': 0.725, 'pos': 0.124, 'co...</td>\n",
       "      <td>-0.2001</td>\n",
       "    </tr>\n",
       "    <tr>\n",
       "      <th>3</th>\n",
       "      <td>iztfhtb</td>\n",
       "      <td>t3_zj2aeu</td>\n",
       "      <td>Worked on me, ngl.</td>\n",
       "      <td>r/ChatGPT</td>\n",
       "      <td>{'neg': 0.0, 'neu': 1.0, 'pos': 0.0, 'compound...</td>\n",
       "      <td>0.0000</td>\n",
       "    </tr>\n",
       "    <tr>\n",
       "      <th>4</th>\n",
       "      <td>izu2as9</td>\n",
       "      <td>t3_zj2aeu</td>\n",
       "      <td>Certified 10/10, must-see moment. It really di...</td>\n",
       "      <td>r/ChatGPT</td>\n",
       "      <td>{'neg': 0.207, 'neu': 0.793, 'pos': 0.0, 'comp...</td>\n",
       "      <td>-0.4364</td>\n",
       "    </tr>\n",
       "  </tbody>\n",
       "</table>\n",
       "</div>"
      ],
      "text/plain": [
       "  comment_id comment_parent_id  \\\n",
       "0    iztdxuh         t3_zj2aeu   \n",
       "1    iztn0q0         t3_zj2aeu   \n",
       "2    izudrph         t3_zj2aeu   \n",
       "3    iztfhtb         t3_zj2aeu   \n",
       "4    izu2as9         t3_zj2aeu   \n",
       "\n",
       "                                        comment_body  subreddit  \\\n",
       "0  I've been shocked for days now, I don't need c...  r/ChatGPT   \n",
       "1   \\n\\nI am so angry right now. I just wasted my...  r/ChatGPT   \n",
       "2  chatgpt karma whoring is here folks! just when...  r/ChatGPT   \n",
       "3                                 Worked on me, ngl.  r/ChatGPT   \n",
       "4  Certified 10/10, must-see moment. It really di...  r/ChatGPT   \n",
       "\n",
       "                                              scores  compound  \n",
       "0  {'neg': 0.223, 'neu': 0.777, 'pos': 0.0, 'comp...   -0.3182  \n",
       "1  {'neg': 0.201, 'neu': 0.734, 'pos': 0.065, 'co...   -0.9837  \n",
       "2  {'neg': 0.151, 'neu': 0.725, 'pos': 0.124, 'co...   -0.2001  \n",
       "3  {'neg': 0.0, 'neu': 1.0, 'pos': 0.0, 'compound...    0.0000  \n",
       "4  {'neg': 0.207, 'neu': 0.793, 'pos': 0.0, 'comp...   -0.4364  "
      ]
     },
     "execution_count": 13,
     "metadata": {},
     "output_type": "execute_result"
    }
   ],
   "source": [
    "data['compound']  = data['scores'].apply(lambda score_dict: score_dict['compound'])\n",
    "data.head()"
   ]
  },
  {
   "cell_type": "code",
   "execution_count": 14,
   "id": "a0626bb6-d76c-4f7e-9715-610828f438f7",
   "metadata": {
    "tags": []
   },
   "outputs": [],
   "source": [
    "# Function to label the sentiment according to score\n",
    "def get_tag(val):\n",
    "    if val <= -0.50:\n",
    "        return 'Negative'\n",
    "    elif val >= 0.5:\n",
    "        return 'Positive'\n",
    "    else:\n",
    "        return 'Neutral'"
   ]
  },
  {
   "cell_type": "code",
   "execution_count": 15,
   "id": "a2c46fc4-5e86-41f5-9fdc-c5efda2234dd",
   "metadata": {},
   "outputs": [
    {
     "data": {
      "text/html": [
       "<div>\n",
       "<style scoped>\n",
       "    .dataframe tbody tr th:only-of-type {\n",
       "        vertical-align: middle;\n",
       "    }\n",
       "\n",
       "    .dataframe tbody tr th {\n",
       "        vertical-align: top;\n",
       "    }\n",
       "\n",
       "    .dataframe thead th {\n",
       "        text-align: right;\n",
       "    }\n",
       "</style>\n",
       "<table border=\"1\" class=\"dataframe\">\n",
       "  <thead>\n",
       "    <tr style=\"text-align: right;\">\n",
       "      <th></th>\n",
       "      <th>comment_id</th>\n",
       "      <th>comment_parent_id</th>\n",
       "      <th>comment_body</th>\n",
       "      <th>subreddit</th>\n",
       "      <th>scores</th>\n",
       "      <th>compound</th>\n",
       "      <th>Sentiment</th>\n",
       "    </tr>\n",
       "  </thead>\n",
       "  <tbody>\n",
       "    <tr>\n",
       "      <th>0</th>\n",
       "      <td>iztdxuh</td>\n",
       "      <td>t3_zj2aeu</td>\n",
       "      <td>I've been shocked for days now, I don't need c...</td>\n",
       "      <td>r/ChatGPT</td>\n",
       "      <td>{'neg': 0.223, 'neu': 0.777, 'pos': 0.0, 'comp...</td>\n",
       "      <td>-0.3182</td>\n",
       "      <td>Neutral</td>\n",
       "    </tr>\n",
       "    <tr>\n",
       "      <th>1</th>\n",
       "      <td>iztn0q0</td>\n",
       "      <td>t3_zj2aeu</td>\n",
       "      <td>\\n\\nI am so angry right now. I just wasted my...</td>\n",
       "      <td>r/ChatGPT</td>\n",
       "      <td>{'neg': 0.201, 'neu': 0.734, 'pos': 0.065, 'co...</td>\n",
       "      <td>-0.9837</td>\n",
       "      <td>Negative</td>\n",
       "    </tr>\n",
       "    <tr>\n",
       "      <th>2</th>\n",
       "      <td>izudrph</td>\n",
       "      <td>t3_zj2aeu</td>\n",
       "      <td>chatgpt karma whoring is here folks! just when...</td>\n",
       "      <td>r/ChatGPT</td>\n",
       "      <td>{'neg': 0.151, 'neu': 0.725, 'pos': 0.124, 'co...</td>\n",
       "      <td>-0.2001</td>\n",
       "      <td>Neutral</td>\n",
       "    </tr>\n",
       "    <tr>\n",
       "      <th>3</th>\n",
       "      <td>iztfhtb</td>\n",
       "      <td>t3_zj2aeu</td>\n",
       "      <td>Worked on me, ngl.</td>\n",
       "      <td>r/ChatGPT</td>\n",
       "      <td>{'neg': 0.0, 'neu': 1.0, 'pos': 0.0, 'compound...</td>\n",
       "      <td>0.0000</td>\n",
       "      <td>Neutral</td>\n",
       "    </tr>\n",
       "    <tr>\n",
       "      <th>4</th>\n",
       "      <td>izu2as9</td>\n",
       "      <td>t3_zj2aeu</td>\n",
       "      <td>Certified 10/10, must-see moment. It really di...</td>\n",
       "      <td>r/ChatGPT</td>\n",
       "      <td>{'neg': 0.207, 'neu': 0.793, 'pos': 0.0, 'comp...</td>\n",
       "      <td>-0.4364</td>\n",
       "      <td>Neutral</td>\n",
       "    </tr>\n",
       "  </tbody>\n",
       "</table>\n",
       "</div>"
      ],
      "text/plain": [
       "  comment_id comment_parent_id  \\\n",
       "0    iztdxuh         t3_zj2aeu   \n",
       "1    iztn0q0         t3_zj2aeu   \n",
       "2    izudrph         t3_zj2aeu   \n",
       "3    iztfhtb         t3_zj2aeu   \n",
       "4    izu2as9         t3_zj2aeu   \n",
       "\n",
       "                                        comment_body  subreddit  \\\n",
       "0  I've been shocked for days now, I don't need c...  r/ChatGPT   \n",
       "1   \\n\\nI am so angry right now. I just wasted my...  r/ChatGPT   \n",
       "2  chatgpt karma whoring is here folks! just when...  r/ChatGPT   \n",
       "3                                 Worked on me, ngl.  r/ChatGPT   \n",
       "4  Certified 10/10, must-see moment. It really di...  r/ChatGPT   \n",
       "\n",
       "                                              scores  compound Sentiment  \n",
       "0  {'neg': 0.223, 'neu': 0.777, 'pos': 0.0, 'comp...   -0.3182   Neutral  \n",
       "1  {'neg': 0.201, 'neu': 0.734, 'pos': 0.065, 'co...   -0.9837  Negative  \n",
       "2  {'neg': 0.151, 'neu': 0.725, 'pos': 0.124, 'co...   -0.2001   Neutral  \n",
       "3  {'neg': 0.0, 'neu': 1.0, 'pos': 0.0, 'compound...    0.0000   Neutral  \n",
       "4  {'neg': 0.207, 'neu': 0.793, 'pos': 0.0, 'comp...   -0.4364   Neutral  "
      ]
     },
     "execution_count": 15,
     "metadata": {},
     "output_type": "execute_result"
    }
   ],
   "source": [
    "data['Sentiment'] = data['compound'].apply(get_tag)\n",
    "data.head()"
   ]
  },
  {
   "cell_type": "code",
   "execution_count": 16,
   "id": "cf617092-8542-4af3-aa27-77dbcf14913f",
   "metadata": {},
   "outputs": [],
   "source": [
    "data.drop(['scores', 'compound'], axis=1, inplace=True)"
   ]
  },
  {
   "cell_type": "code",
   "execution_count": 17,
   "id": "990dc858-9ae0-46fb-8d81-a02f9d40d31c",
   "metadata": {},
   "outputs": [
    {
     "data": {
      "text/html": [
       "<div>\n",
       "<style scoped>\n",
       "    .dataframe tbody tr th:only-of-type {\n",
       "        vertical-align: middle;\n",
       "    }\n",
       "\n",
       "    .dataframe tbody tr th {\n",
       "        vertical-align: top;\n",
       "    }\n",
       "\n",
       "    .dataframe thead th {\n",
       "        text-align: right;\n",
       "    }\n",
       "</style>\n",
       "<table border=\"1\" class=\"dataframe\">\n",
       "  <thead>\n",
       "    <tr style=\"text-align: right;\">\n",
       "      <th></th>\n",
       "      <th>comment_id</th>\n",
       "      <th>comment_parent_id</th>\n",
       "      <th>comment_body</th>\n",
       "      <th>subreddit</th>\n",
       "      <th>Sentiment</th>\n",
       "    </tr>\n",
       "  </thead>\n",
       "  <tbody>\n",
       "    <tr>\n",
       "      <th>0</th>\n",
       "      <td>iztdxuh</td>\n",
       "      <td>t3_zj2aeu</td>\n",
       "      <td>I've been shocked for days now, I don't need c...</td>\n",
       "      <td>r/ChatGPT</td>\n",
       "      <td>Neutral</td>\n",
       "    </tr>\n",
       "    <tr>\n",
       "      <th>1</th>\n",
       "      <td>iztn0q0</td>\n",
       "      <td>t3_zj2aeu</td>\n",
       "      <td>\\n\\nI am so angry right now. I just wasted my...</td>\n",
       "      <td>r/ChatGPT</td>\n",
       "      <td>Negative</td>\n",
       "    </tr>\n",
       "    <tr>\n",
       "      <th>2</th>\n",
       "      <td>izudrph</td>\n",
       "      <td>t3_zj2aeu</td>\n",
       "      <td>chatgpt karma whoring is here folks! just when...</td>\n",
       "      <td>r/ChatGPT</td>\n",
       "      <td>Neutral</td>\n",
       "    </tr>\n",
       "    <tr>\n",
       "      <th>3</th>\n",
       "      <td>iztfhtb</td>\n",
       "      <td>t3_zj2aeu</td>\n",
       "      <td>Worked on me, ngl.</td>\n",
       "      <td>r/ChatGPT</td>\n",
       "      <td>Neutral</td>\n",
       "    </tr>\n",
       "    <tr>\n",
       "      <th>4</th>\n",
       "      <td>izu2as9</td>\n",
       "      <td>t3_zj2aeu</td>\n",
       "      <td>Certified 10/10, must-see moment. It really di...</td>\n",
       "      <td>r/ChatGPT</td>\n",
       "      <td>Neutral</td>\n",
       "    </tr>\n",
       "    <tr>\n",
       "      <th>5</th>\n",
       "      <td>izw8iw3</td>\n",
       "      <td>t3_zj2aeu</td>\n",
       "      <td>Wow, way to discover the most basic functional...</td>\n",
       "      <td>r/ChatGPT</td>\n",
       "      <td>Positive</td>\n",
       "    </tr>\n",
       "    <tr>\n",
       "      <th>6</th>\n",
       "      <td>izvxxi8</td>\n",
       "      <td>t3_zj2aeu</td>\n",
       "      <td>People on Reddit seek the karma and the fame,\\...</td>\n",
       "      <td>r/ChatGPT</td>\n",
       "      <td>Positive</td>\n",
       "    </tr>\n",
       "    <tr>\n",
       "      <th>7</th>\n",
       "      <td>izwe6c7</td>\n",
       "      <td>t3_zj2aeu</td>\n",
       "      <td>Inception))</td>\n",
       "      <td>r/ChatGPT</td>\n",
       "      <td>Neutral</td>\n",
       "    </tr>\n",
       "    <tr>\n",
       "      <th>8</th>\n",
       "      <td>iztipoe</td>\n",
       "      <td>t3_zj2aeu</td>\n",
       "      <td>What's the point of even trying to click-bait ...</td>\n",
       "      <td>r/ChatGPT</td>\n",
       "      <td>Neutral</td>\n",
       "    </tr>\n",
       "    <tr>\n",
       "      <th>9</th>\n",
       "      <td>izvxsd9</td>\n",
       "      <td>t3_zj2aeu</td>\n",
       "      <td>I love you.</td>\n",
       "      <td>r/ChatGPT</td>\n",
       "      <td>Positive</td>\n",
       "    </tr>\n",
       "  </tbody>\n",
       "</table>\n",
       "</div>"
      ],
      "text/plain": [
       "  comment_id comment_parent_id  \\\n",
       "0    iztdxuh         t3_zj2aeu   \n",
       "1    iztn0q0         t3_zj2aeu   \n",
       "2    izudrph         t3_zj2aeu   \n",
       "3    iztfhtb         t3_zj2aeu   \n",
       "4    izu2as9         t3_zj2aeu   \n",
       "5    izw8iw3         t3_zj2aeu   \n",
       "6    izvxxi8         t3_zj2aeu   \n",
       "7    izwe6c7         t3_zj2aeu   \n",
       "8    iztipoe         t3_zj2aeu   \n",
       "9    izvxsd9         t3_zj2aeu   \n",
       "\n",
       "                                        comment_body  subreddit Sentiment  \n",
       "0  I've been shocked for days now, I don't need c...  r/ChatGPT   Neutral  \n",
       "1   \\n\\nI am so angry right now. I just wasted my...  r/ChatGPT  Negative  \n",
       "2  chatgpt karma whoring is here folks! just when...  r/ChatGPT   Neutral  \n",
       "3                                 Worked on me, ngl.  r/ChatGPT   Neutral  \n",
       "4  Certified 10/10, must-see moment. It really di...  r/ChatGPT   Neutral  \n",
       "5  Wow, way to discover the most basic functional...  r/ChatGPT  Positive  \n",
       "6  People on Reddit seek the karma and the fame,\\...  r/ChatGPT  Positive  \n",
       "7                                        Inception))  r/ChatGPT   Neutral  \n",
       "8  What's the point of even trying to click-bait ...  r/ChatGPT   Neutral  \n",
       "9                                        I love you.  r/ChatGPT  Positive  "
      ]
     },
     "execution_count": 17,
     "metadata": {},
     "output_type": "execute_result"
    }
   ],
   "source": [
    "data.head(10)"
   ]
  },
  {
   "cell_type": "code",
   "execution_count": 18,
   "id": "793ffd73-4f52-46ae-b3c7-bddcf4831860",
   "metadata": {},
   "outputs": [],
   "source": [
    "data.to_csv('Labeled Data.csv')"
   ]
  },
  {
   "cell_type": "code",
   "execution_count": null,
   "id": "da82d53c-8d99-4fa0-88e4-4e94311efbbf",
   "metadata": {},
   "outputs": [],
   "source": []
  }
 ],
 "metadata": {
  "kernelspec": {
   "display_name": "Python 3 (ipykernel)",
   "language": "python",
   "name": "python3"
  },
  "language_info": {
   "codemirror_mode": {
    "name": "ipython",
    "version": 3
   },
   "file_extension": ".py",
   "mimetype": "text/x-python",
   "name": "python",
   "nbconvert_exporter": "python",
   "pygments_lexer": "ipython3",
   "version": "3.9.13"
  }
 },
 "nbformat": 4,
 "nbformat_minor": 5
}
